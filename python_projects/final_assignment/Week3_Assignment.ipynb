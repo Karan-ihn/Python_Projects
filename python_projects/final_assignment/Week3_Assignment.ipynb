{
 "cells": [
  {
   "cell_type": "markdown",
   "metadata": {},
   "source": [
    "# Assignment 3 for LS Python"
   ]
  },
  {
   "cell_type": "markdown",
   "metadata": {},
   "source": [
    "So this week you learnt about Classes and Objects in Python, the concept of Inheritance and then concepts like Encapsulation, Polymorphism, function overloading. Let us know solve some questions to make those concepts concrete!"
   ]
  },
  {
   "cell_type": "markdown",
   "metadata": {},
   "source": [
    "## Question 1"
   ]
  },
  {
   "cell_type": "markdown",
   "metadata": {},
   "source": [
    "Write a Python Class to reverse a string **word** by **word**. \n",
    "\n",
    "**Input** : 'hello .py'\n",
    "\n",
    "**Output**: 'py. hello'\n",
    "\n",
    "(Remember that you have already done such questions before, just apply that knowledge to words instead of letters or numbers)\n",
    "\n",
    "Hint: use predefined methods to 'split' a string and then work ahead from there\n",
    "\n",
    "<img src=\"https://www.w3resource.com/w3r_images/python-class-image-exercise-8.svg\" alt=\"q1\" width=\"500\"/>"
   ]
  },
  {
   "cell_type": "code",
   "execution_count": 1,
   "metadata": {
    "tags": []
   },
   "outputs": [
    {
     "output_type": "stream",
     "name": "stdout",
     "text": "Python Hello \n"
    }
   ],
   "source": [
    "# Define a class Return the reversed string (word by word)\n",
    "class Reverse:\n",
    "    def __init__(self,string):\n",
    "        self.string = string\n",
    "\n",
    "    def reverse_string(self):\n",
    "        words = list(self.string.split())               # spliting the words for the logic.\n",
    "        reversed_string = ''\n",
    "        for i in range(len(words)):                     # reversing of the words according to the problem   \n",
    "            reversed_string += words[len(words)-i-1]\n",
    "            reversed_string += ' '\n",
    "\n",
    "        return reversed_string\n",
    "\n",
    "# Print the Reversed String\n",
    "string = Reverse(input())      # input = 'Hello Python'\n",
    "print(string.reverse_string())"
   ]
  },
  {
   "cell_type": "markdown",
   "metadata": {},
   "source": [
    "## Question 2"
   ]
  },
  {
   "cell_type": "markdown",
   "metadata": {},
   "source": [
    "Write a Python Class to implement to convert an integer to a roman numeral. \n",
    "\n",
    "Example:\n",
    "\n",
    "**Input** : 23\n",
    "\n",
    "**Output** : XXIII\n",
    "\n",
    "Make sure that you are storing only the '**required**' roman numerals, so that by using only these predefined roman numerals, your program should be able to convert any given input integer to its corresponding roman numeral. \n",
    "\n",
    "Hint : To make this question easier, you can use the information that the maximum number of special numbers (and their roman numerals) you can use is **13**, and using only these numbers, the program should work for any integer.\n",
    "\n",
    "**NOTE**: \n",
    "* Consider that the maximum input integer can not be more than 4999, because after 4999, you require more than 13 symbols to represent numbers.\n",
    "* For the purpose of this question, assume that 4999 is written using normal roman symbols as **'MMMMCMXCIX'** and can not be written in any other way. \n"
   ]
  },
  {
   "cell_type": "code",
   "execution_count": 1,
   "metadata": {
    "tags": []
   },
   "outputs": [
    {
     "output_type": "stream",
     "name": "stdout",
     "text": "MMMMCMXCIX\n"
    }
   ],
   "source": [
    "# Define a class using the appropriate lists for storing roman numerals and the final logic of the code.\n",
    "class Roman_numbers:\n",
    "    def __init__(self,integer):\n",
    "        self.integer = integer\n",
    "\n",
    "    def int_to_romnum(self):\n",
    "\n",
    "        value_symbol_dict = {                                     # value_symbol stored as a dictionary to standardize the process of conversion\n",
    "            1:'I', 4:'IV', 5:'V', 9:'IX',\n",
    "            10:'X', 40:'XL', 50:'L', 90:'XC',\n",
    "            100:'C', 400:'CD', 500:'D', 900:'CM',\n",
    "            1000:'M'\n",
    "        }\n",
    "\n",
    "        index = 12                   \n",
    "        roman_form = ''\n",
    "        while self.integer > 0:\n",
    "            quotient = self.integer // list(value_symbol_dict.keys())[index]   # decider and multiplier \n",
    "            self.integer %= list(value_symbol_dict.keys())[index]              # number is broken here to the places like ones, tens etc\n",
    "\n",
    "            while quotient :\n",
    "                roman_form += list(value_symbol_dict.values())[index]\n",
    "                quotient -= 1\n",
    "\n",
    "            index -= 1\n",
    "\n",
    "        return roman_form\n",
    "\n",
    "# Your code:\n",
    "num1 = Roman_numbers(int(input())) # input = 4999\n",
    "print(num1.int_to_romnum())\n"
   ]
  },
  {
   "cell_type": "markdown",
   "metadata": {},
   "source": [
    "## Question 3"
   ]
  },
  {
   "cell_type": "markdown",
   "metadata": {},
   "source": [
    "Write a Python Class to implement pow(x,n).\n",
    "\n",
    "Note that **n** is a Real Number, i.e, n can be negative or a fraction, so your program should be able to answer any given combination of x and n. \n",
    "\n",
    "Example: \n",
    "\n",
    "**Input** : \n",
    "<br>(2,-3)\n",
    "<br>(3, 5)\n",
    "<br>(2, 0.7)\n",
    "\n",
    "**Output** : \n",
    "<br> 0.125\n",
    "<br> 243\n",
    "<br> 1.6245\n"
   ]
  },
  {
   "cell_type": "code",
   "execution_count": 1,
   "metadata": {
    "tags": []
   },
   "outputs": [
    {
     "output_type": "stream",
     "name": "stdout",
     "text": "8\n"
    }
   ],
   "source": [
    "# Define a single method in a class which takes in (x,n) as the input.\n",
    "class Power:\n",
    "    def __init__(self,string):\n",
    "        self.string = string\n",
    "\n",
    "    def pow(self):\n",
    "        if ',' in self.string:                                     # whole section is for tackling any form of input like (2,3), 2,3, 2 3, (2 3) \n",
    "            list =self.string.lstrip('(').rstrip(')').split(',')\n",
    "        else :\n",
    "            list = self.string.lstrip('(').rstrip(')').split(' ')\n",
    "\n",
    "        raise_to = float(list[0])**float(list[1])                  # actual power expression\n",
    "        if raise_to == int(raise_to):                              # tackling the datatype \n",
    "            return int(raise_to)\n",
    "        else :\n",
    "            return round(raise_to,3)                               # precision and output\n",
    "\n",
    "# Your code\n",
    "set1 = Power(input())  # input = (2,3)\n",
    "print(set1.pow())"
   ]
  },
  {
   "cell_type": "markdown",
   "metadata": {},
   "source": [
    "## Question 4"
   ]
  },
  {
   "cell_type": "markdown",
   "metadata": {},
   "source": [
    "Write a Python class to get all possible unique subsets from a **set** of distinct integers. \n",
    "\n",
    "(Remember that a set is another data structure similar to lists, tuples, etc. So make sure that you use 'set' in your program)\n",
    "\n",
    "Example:\n",
    "\n",
    "**Input**: {4,5,6}\n",
    "\n",
    "**Output** : {}, {4}, {5}, {6}, {4,5}, {5,6}, {4,6}, {4,5,6}\n",
    "\n",
    "Hint : Try to construct the logic for the code using your knowledge of creating the **Power Set** of a set.\n",
    "\n",
    "<img src=\"https://www.w3resource.com/w3r_images/python-class-image-exercise-4.svg\" alt=\"q4\" width=\"500\"/>"
   ]
  },
  {
   "cell_type": "code",
   "execution_count": 2,
   "metadata": {
    "tags": []
   },
   "outputs": [
    {
     "output_type": "stream",
     "name": "stdout",
     "text": "{}, {4}, {5}, {4, 5}, {6}, {4, 6}, {5, 6}, {4, 5, 6}"
    }
   ],
   "source": [
    "# Define a class with 2 methods.\n",
    "class Subsets:\n",
    "    def __init__(self,parent_set):\n",
    "        self.parent_set = list(parent_set)      # for converting the set into list to gain more flexibility.\n",
    "\n",
    "    def power_list(self):                       # main method to generate the power_set (MAIN LOGIC)\n",
    "        power_list = [[]]\n",
    "        for item in self.parent_set:\n",
    "            for i in range(len(power_list)):\n",
    "                power_list.append(power_list[i]+[item])\n",
    "        return power_list\n",
    "\n",
    "    def power_set(self):                        # converting the elements of the list into the sets and again appending them in another list.\n",
    "        power_set = []\n",
    "        for element in self.power_list():\n",
    "            s = set(element)\n",
    "            if s == 'None':\n",
    "                pass\n",
    "            elif s == set():\n",
    "                power_set.append({})\n",
    "            else :\n",
    "                power_set.append(s)\n",
    "\n",
    "        return power_set \n",
    "\n",
    "# Your code\n",
    "l = input().lstrip('{').rstrip('}').split(',')\n",
    "s = set()\n",
    "for i in l:\n",
    "    s.add(int(i))\n",
    "\n",
    "set1 = Subsets(s)\n",
    "print(set1.power_set()[0],end=\"\")\n",
    "for i in range(1,len(set1.power_set())):\n",
    "    print(',',set1.power_set()[i],end=\"\")"
   ]
  },
  {
   "cell_type": "markdown",
   "metadata": {},
   "source": [
    "## Question 5"
   ]
  },
  {
   "cell_type": "markdown",
   "metadata": {},
   "source": [
    "In this question, your task is to deal 1 card from a deck of 52 cards and display it as your output. \n",
    "\n",
    "Define a class called as **'deck'**, representing a deck of cards. Internally, the **'deck'** of cards class should use another class, a **'card'** class. Your requirements are:\n",
    "* The **Deck** class should have a **deal** method to deal a single card from the deck.\n",
    "* After a card is dealt, it is removed from the deck.\n",
    "* There should be a **shuffle** method which makes sure the deck of cards has all 52 cards and then rearranges them **randomly**.\n",
    "* The **Card** class should have a Suit (Hearts, Diamonds, Clubs, Spades) and a Value (A,2,3,4,5,6,7,8,9,10,J,Q,K).\n",
    "\n",
    "\n",
    "\n",
    "**Example Output** :\n",
    "<br>'2 of Spades'\n",
    "<br>'Jack of Diamonds'\n",
    "\n",
    "\n",
    "(Note: For shuffling the deck everytime you deal a card from the deck, you can import predefined modules, for eg: '**random**' is one such module from which you can call the '**shuffle**' method) \n",
    "\n",
    "**Make sure to attempt this question using Inheritance.**"
   ]
  },
  {
   "cell_type": "code",
   "execution_count": 14,
   "metadata": {
    "tags": []
   },
   "outputs": [
    {
     "output_type": "stream",
     "name": "stdout",
     "text": "Jack of Hearts\n"
    }
   ],
   "source": [
    "# Define two classes - Deck and Card.\n",
    "import random\n",
    "class Deck:\n",
    "    used_card = []\n",
    "    def __init__(self):\n",
    "        self.suits = ['Hearts','Clubs','Diamonds','Spades']\n",
    "        self.values = ['Ace','King','Queen','Jack','1','2','3','4','5','6','7','8','9']\n",
    "\n",
    "class Card(Deck):\n",
    "    def __init__(self):\n",
    "        super().__init__()\n",
    "\n",
    "    def suit_picker(self):\n",
    "        random.shuffle(self.suits)\n",
    "        return random.choice(self.suits)\n",
    "\n",
    "    def value_picker(self):\n",
    "        random.shuffle(self.values)\n",
    "        return self.values.pop()\n",
    "\n",
    "    def deal(self):\n",
    "        card = f'{self.value_picker()} of {self.suit_picker()}'\n",
    "        if card not in self.used_card:\n",
    "            return card\n",
    "        else : return 'Already Done'\n",
    "# Your code. \n",
    "c = Card()\n",
    "print(c.deal())"
   ]
  },
  {
   "cell_type": "code",
   "execution_count": null,
   "metadata": {},
   "outputs": [],
   "source": []
  }
 ],
 "metadata": {
  "kernelspec": {
   "display_name": "Python 3",
   "language": "python",
   "name": "python3"
  },
  "language_info": {
   "codemirror_mode": {
    "name": "ipython",
    "version": 3
   },
   "file_extension": ".py",
   "mimetype": "text/x-python",
   "name": "python",
   "nbconvert_exporter": "python",
   "pygments_lexer": "ipython3",
   "version": "3.8.3-final"
  }
 },
 "nbformat": 4,
 "nbformat_minor": 2
}